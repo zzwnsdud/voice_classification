{
  "nbformat": 4,
  "nbformat_minor": 0,
  "metadata": {
    "colab": {
      "name": "1dcnnsequence0.ipynb",
      "provenance": []
    },
    "kernelspec": {
      "name": "python3",
      "display_name": "Python 3"
    },
    "language_info": {
      "name": "python"
    },
    "accelerator": "GPU"
  },
  "cells": [
    {
      "cell_type": "code",
      "metadata": {
        "colab": {
          "base_uri": "https://localhost:8080/"
        },
        "id": "e0mnmb_aXlrl",
        "outputId": "ac0107d0-7c4e-4ec7-da15-7cc433617c3c"
      },
      "source": [
        "from google.colab import drive\n",
        "\n",
        "drive.mount('/content/gdrive')"
      ],
      "execution_count": 1,
      "outputs": [
        {
          "output_type": "stream",
          "text": [
            "Drive already mounted at /content/gdrive; to attempt to forcibly remount, call drive.mount(\"/content/gdrive\", force_remount=True).\n"
          ],
          "name": "stdout"
        }
      ]
    },
    {
      "cell_type": "code",
      "metadata": {
        "id": "7TxarcTYXqX0"
      },
      "source": [
        "import pandas as pd\n",
        "import numpy as np\n",
        "\n",
        "df = pd.read_csv('./gdrive/MyDrive/신프/vad/mfcc_df.csv', nrows=5000, index_col=[0])"
      ],
      "execution_count": 3,
      "outputs": []
    },
    {
      "cell_type": "code",
      "metadata": {
        "id": "ZXNB55uAXx4A"
      },
      "source": [
        "X = df.iloc[:, :-1]\n",
        "y = df.iloc[:,-1]\n",
        "\n",
        "X_mo = X.subtract(X.min(axis=1), axis=0)\n",
        "X_nor = X_mo.div((X.max(axis=1)-X.min(axis=1)),axis=0)"
      ],
      "execution_count": 4,
      "outputs": []
    },
    {
      "cell_type": "code",
      "metadata": {
        "colab": {
          "base_uri": "https://localhost:8080/"
        },
        "id": "ZrM8xTXHX2jQ",
        "outputId": "360f6470-d331-4262-a691-61b3908f8980"
      },
      "source": [
        "y.unique()"
      ],
      "execution_count": 5,
      "outputs": [
        {
          "output_type": "execute_result",
          "data": {
            "text/plain": [
              "array([23,  1, 19, 34, 24, 30, 29, 21, 25,  4, 16,  2, 15, 33, 28, 11, 27,\n",
              "       18,  7, 31, 22, 37, 12])"
            ]
          },
          "metadata": {
            "tags": []
          },
          "execution_count": 5
        }
      ]
    },
    {
      "cell_type": "code",
      "metadata": {
        "id": "Zhn0hpKFX89j"
      },
      "source": [
        "from sklearn.preprocessing import OneHotEncoder, LabelEncoder\n",
        "le = LabelEncoder()\n",
        "le.fit(y)\n",
        "y = le.transform(y)"
      ],
      "execution_count": 6,
      "outputs": []
    },
    {
      "cell_type": "code",
      "metadata": {
        "id": "FOHFZzFIYBqL"
      },
      "source": [
        "ohe = OneHotEncoder()\n",
        "y = ohe.fit_transform(y.reshape(-1,1)).toarray()"
      ],
      "execution_count": 7,
      "outputs": []
    },
    {
      "cell_type": "code",
      "metadata": {
        "id": "bWG-dbuOYMfP"
      },
      "source": [
        "X_input = X_nor.values.reshape(X.shape[0],7*13,7*7*7)"
      ],
      "execution_count": 8,
      "outputs": []
    },
    {
      "cell_type": "code",
      "metadata": {
        "id": "KZUtatzYY9x5"
      },
      "source": [
        "from sklearn.model_selection import train_test_split\n",
        "\n",
        "X_train, X_val, y_train, y_val = train_test_split(X_input, y, test_size=0.2, stratify=y)\n",
        "X_val, X_test, y_val, y_test = train_test_split(X_val, y_val, test_size=0.3)"
      ],
      "execution_count": null,
      "outputs": []
    },
    {
      "cell_type": "code",
      "metadata": {
        "colab": {
          "base_uri": "https://localhost:8080/"
        },
        "id": "mydXWaFiZjQl",
        "outputId": "1f710d51-ab39-49af-914b-e03beb53480f"
      },
      "source": [
        "X_input.shape"
      ],
      "execution_count": 10,
      "outputs": [
        {
          "output_type": "execute_result",
          "data": {
            "text/plain": [
              "(10000, 91, 343)"
            ]
          },
          "metadata": {
            "tags": []
          },
          "execution_count": 10
        }
      ]
    },
    {
      "cell_type": "code",
      "metadata": {
        "id": "Jx3GMnzibFgF"
      },
      "source": [
        ""
      ],
      "execution_count": null,
      "outputs": []
    }
  ]
}